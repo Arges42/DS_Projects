{
 "cells": [
  {
   "cell_type": "code",
   "execution_count": 34,
   "metadata": {
    "collapsed": true
   },
   "outputs": [],
   "source": [
    "import pandas as pd\n",
    "import numpy as np\n",
    "import matplotlib.pyplot as plt\n",
    "%matplotlib inline\n",
    "from sklearn.preprocessing import LabelEncoder"
   ]
  },
  {
   "cell_type": "code",
   "execution_count": 35,
   "metadata": {
    "collapsed": true
   },
   "outputs": [],
   "source": [
    "train = pd.read_csv('data/BigMartSales_Train.csv')\n",
    "test  = pd.read_csv('data/BigMartSales_Test.csv')"
   ]
  },
  {
   "cell_type": "code",
   "execution_count": 36,
   "metadata": {},
   "outputs": [
    {
     "data": {
      "text/html": [
       "<div>\n",
       "<style>\n",
       "    .dataframe thead tr:only-child th {\n",
       "        text-align: right;\n",
       "    }\n",
       "\n",
       "    .dataframe thead th {\n",
       "        text-align: left;\n",
       "    }\n",
       "\n",
       "    .dataframe tbody tr th {\n",
       "        vertical-align: top;\n",
       "    }\n",
       "</style>\n",
       "<table border=\"1\" class=\"dataframe\">\n",
       "  <thead>\n",
       "    <tr style=\"text-align: right;\">\n",
       "      <th></th>\n",
       "      <th>Item_Identifier</th>\n",
       "      <th>Item_Weight</th>\n",
       "      <th>Item_Fat_Content</th>\n",
       "      <th>Item_Visibility</th>\n",
       "      <th>Item_Type</th>\n",
       "      <th>Item_MRP</th>\n",
       "      <th>Outlet_Identifier</th>\n",
       "      <th>Outlet_Establishment_Year</th>\n",
       "      <th>Outlet_Size</th>\n",
       "      <th>Outlet_Location_Type</th>\n",
       "      <th>Outlet_Type</th>\n",
       "      <th>Item_Outlet_Sales</th>\n",
       "    </tr>\n",
       "  </thead>\n",
       "  <tbody>\n",
       "    <tr>\n",
       "      <th>0</th>\n",
       "      <td>FDA15</td>\n",
       "      <td>9.30</td>\n",
       "      <td>Low Fat</td>\n",
       "      <td>0.016047</td>\n",
       "      <td>Dairy</td>\n",
       "      <td>249.8092</td>\n",
       "      <td>OUT049</td>\n",
       "      <td>1999</td>\n",
       "      <td>Medium</td>\n",
       "      <td>Tier 1</td>\n",
       "      <td>Supermarket Type1</td>\n",
       "      <td>3735.1380</td>\n",
       "    </tr>\n",
       "    <tr>\n",
       "      <th>1</th>\n",
       "      <td>DRC01</td>\n",
       "      <td>5.92</td>\n",
       "      <td>Regular</td>\n",
       "      <td>0.019278</td>\n",
       "      <td>Soft Drinks</td>\n",
       "      <td>48.2692</td>\n",
       "      <td>OUT018</td>\n",
       "      <td>2009</td>\n",
       "      <td>Medium</td>\n",
       "      <td>Tier 3</td>\n",
       "      <td>Supermarket Type2</td>\n",
       "      <td>443.4228</td>\n",
       "    </tr>\n",
       "    <tr>\n",
       "      <th>2</th>\n",
       "      <td>FDN15</td>\n",
       "      <td>17.50</td>\n",
       "      <td>Low Fat</td>\n",
       "      <td>0.016760</td>\n",
       "      <td>Meat</td>\n",
       "      <td>141.6180</td>\n",
       "      <td>OUT049</td>\n",
       "      <td>1999</td>\n",
       "      <td>Medium</td>\n",
       "      <td>Tier 1</td>\n",
       "      <td>Supermarket Type1</td>\n",
       "      <td>2097.2700</td>\n",
       "    </tr>\n",
       "    <tr>\n",
       "      <th>3</th>\n",
       "      <td>FDX07</td>\n",
       "      <td>19.20</td>\n",
       "      <td>Regular</td>\n",
       "      <td>0.000000</td>\n",
       "      <td>Fruits and Vegetables</td>\n",
       "      <td>182.0950</td>\n",
       "      <td>OUT010</td>\n",
       "      <td>1998</td>\n",
       "      <td>NaN</td>\n",
       "      <td>Tier 3</td>\n",
       "      <td>Grocery Store</td>\n",
       "      <td>732.3800</td>\n",
       "    </tr>\n",
       "    <tr>\n",
       "      <th>4</th>\n",
       "      <td>NCD19</td>\n",
       "      <td>8.93</td>\n",
       "      <td>Low Fat</td>\n",
       "      <td>0.000000</td>\n",
       "      <td>Household</td>\n",
       "      <td>53.8614</td>\n",
       "      <td>OUT013</td>\n",
       "      <td>1987</td>\n",
       "      <td>High</td>\n",
       "      <td>Tier 3</td>\n",
       "      <td>Supermarket Type1</td>\n",
       "      <td>994.7052</td>\n",
       "    </tr>\n",
       "  </tbody>\n",
       "</table>\n",
       "</div>"
      ],
      "text/plain": [
       "  Item_Identifier  Item_Weight Item_Fat_Content  Item_Visibility  \\\n",
       "0           FDA15         9.30          Low Fat         0.016047   \n",
       "1           DRC01         5.92          Regular         0.019278   \n",
       "2           FDN15        17.50          Low Fat         0.016760   \n",
       "3           FDX07        19.20          Regular         0.000000   \n",
       "4           NCD19         8.93          Low Fat         0.000000   \n",
       "\n",
       "               Item_Type  Item_MRP Outlet_Identifier  \\\n",
       "0                  Dairy  249.8092            OUT049   \n",
       "1            Soft Drinks   48.2692            OUT018   \n",
       "2                   Meat  141.6180            OUT049   \n",
       "3  Fruits and Vegetables  182.0950            OUT010   \n",
       "4              Household   53.8614            OUT013   \n",
       "\n",
       "   Outlet_Establishment_Year Outlet_Size Outlet_Location_Type  \\\n",
       "0                       1999      Medium               Tier 1   \n",
       "1                       2009      Medium               Tier 3   \n",
       "2                       1999      Medium               Tier 1   \n",
       "3                       1998         NaN               Tier 3   \n",
       "4                       1987        High               Tier 3   \n",
       "\n",
       "         Outlet_Type  Item_Outlet_Sales  \n",
       "0  Supermarket Type1          3735.1380  \n",
       "1  Supermarket Type2           443.4228  \n",
       "2  Supermarket Type1          2097.2700  \n",
       "3      Grocery Store           732.3800  \n",
       "4  Supermarket Type1           994.7052  "
      ]
     },
     "execution_count": 36,
     "metadata": {},
     "output_type": "execute_result"
    }
   ],
   "source": [
    "train.head()"
   ]
  },
  {
   "cell_type": "markdown",
   "metadata": {},
   "source": [
    "# Preprocessing Steps"
   ]
  },
  {
   "cell_type": "code",
   "execution_count": 37,
   "metadata": {
    "collapsed": true
   },
   "outputs": [],
   "source": [
    "# It might be more approbriate to use the combined mean as imputation value, or only the training mean\n",
    "train['Item_Weight'].fillna((train['Item_Weight'].mean()), inplace=True)\n",
    "test['Item_Weight'].fillna((test['Item_Weight'].mean()), inplace=True)"
   ]
  },
  {
   "cell_type": "markdown",
   "metadata": {},
   "source": [
    "Reduce the number of categorical variables"
   ]
  },
  {
   "cell_type": "code",
   "execution_count": 38,
   "metadata": {
    "collapsed": true
   },
   "outputs": [],
   "source": [
    "train['Item_Fat_Content'] = train['Item_Fat_Content'].replace(['low fat', 'LF'], ['Low Fat', 'Low Fat'])\n",
    "train['Item_Fat_Content'] = train['Item_Fat_Content'].replace(['reg'], ['Regular'])\n",
    "test['Item_Fat_Content'] = test['Item_Fat_Content'].replace(['low fat', 'LF'], ['Low Fat', 'Low Fat'])\n",
    "test['Item_Fat_Content'] = test['Item_Fat_Content'].replace(['reg'], ['Regular'])"
   ]
  },
  {
   "cell_type": "code",
   "execution_count": 39,
   "metadata": {
    "collapsed": true
   },
   "outputs": [],
   "source": [
    "## for calculating establishment year\n",
    "train['Outlet_Establishment_Year'] = 2013 - train['Outlet_Establishment_Year'] \n",
    "test['Outlet_Establishment_Year'] = 2013 - test['Outlet_Establishment_Year']"
   ]
  },
  {
   "cell_type": "code",
   "execution_count": 40,
   "metadata": {
    "collapsed": true
   },
   "outputs": [],
   "source": [
    "### missing values for size\n",
    "train['Outlet_Size'].fillna('Small', inplace=True)\n",
    "test['Outlet_Size'].fillna('Small', inplace=True)"
   ]
  },
  {
   "cell_type": "code",
   "execution_count": 41,
   "metadata": {},
   "outputs": [
    {
     "name": "stderr",
     "output_type": "stream",
     "text": [
      "/home/jan/anaconda3/lib/python3.6/site-packages/ipykernel_launcher.py:11: SettingWithCopyWarning: \n",
      "A value is trying to be set on a copy of a slice from a DataFrame\n",
      "\n",
      "See the caveats in the documentation: http://pandas.pydata.org/pandas-docs/stable/indexing.html#indexing-view-versus-copy\n",
      "  # This is added back by InteractiveShellApp.init_path()\n"
     ]
    }
   ],
   "source": [
    "### label encoding cate. var.\n",
    "col = ['Outlet_Size','Outlet_Location_Type','Outlet_Type','Item_Fat_Content']\n",
    "test['Item_Outlet_Sales'] = 0\n",
    "combi = train.append(test)\n",
    "number = LabelEncoder()\n",
    "for i in col:\n",
    "    combi.loc[:,i] = number.fit_transform(combi[i].astype('str'))\n",
    "    combi.loc[:,i] = combi[i].astype('int')\n",
    "train = combi[:train.shape[0]]\n",
    "test = combi[train.shape[0]:]\n",
    "test.drop('Item_Outlet_Sales',axis=1,inplace=True)"
   ]
  },
  {
   "cell_type": "code",
   "execution_count": 42,
   "metadata": {
    "collapsed": true
   },
   "outputs": [],
   "source": [
    "## removing id variables \n",
    "training = train.drop(['Outlet_Identifier','Item_Type','Item_Identifier'],axis=1)\n",
    "testing = test.drop(['Outlet_Identifier','Item_Type','Item_Identifier'],axis=1)\n",
    "y_train = training['Item_Outlet_Sales']\n",
    "training.drop('Item_Outlet_Sales',axis=1,inplace=True)"
   ]
  },
  {
   "cell_type": "markdown",
   "metadata": {},
   "source": [
    "# Setting up Training"
   ]
  },
  {
   "cell_type": "code",
   "execution_count": 43,
   "metadata": {
    "collapsed": true
   },
   "outputs": [],
   "source": [
    "features = training.columns\n",
    "target = 'Item_Outlet_Sales'\n",
    "\n",
    "X_train, X_test = training, testing"
   ]
  },
  {
   "cell_type": "code",
   "execution_count": 44,
   "metadata": {
    "collapsed": true
   },
   "outputs": [],
   "source": [
    "from xgboost import XGBRegressor\n",
    "from sklearn.linear_model import BayesianRidge, Ridge, ElasticNet\n",
    "from sklearn.neighbors import KNeighborsRegressor\n",
    "from sklearn.ensemble import RandomForestRegressor, ExtraTreesRegressor, GradientBoostingRegressor\n",
    "#from sklearn.neural_network import MLPRegressor\n",
    "\n",
    "from sklearn.metrics import mean_squared_error\n",
    "from sklearn.model_selection import cross_val_score"
   ]
  },
  {
   "cell_type": "code",
   "execution_count": 45,
   "metadata": {
    "collapsed": true
   },
   "outputs": [],
   "source": [
    "model_factory = [\n",
    " RandomForestRegressor(),\n",
    " XGBRegressor(nthread=1),\n",
    " #MLPRegressor(),\n",
    " Ridge(),\n",
    " BayesianRidge(),\n",
    " ExtraTreesRegressor(),\n",
    " ElasticNet(),\n",
    " KNeighborsRegressor(),\n",
    " GradientBoostingRegressor()\n",
    "]"
   ]
  },
  {
   "cell_type": "code",
   "execution_count": 17,
   "metadata": {},
   "outputs": [
    {
     "name": "stdout",
     "output_type": "stream",
     "text": [
      "RandomForestRegressor     CV-5 RMSE:  1189.69 (+/- 51487.23)\n",
      "XGBRegressor              CV-5 RMSE:  1083.26 (+/- 34737.98)\n",
      "Ridge                     CV-5 RMSE:  1206.14 (+/- 86022.89)\n",
      "BayesianRidge             CV-5 RMSE:  1206.26 (+/- 85060.48)\n",
      "ExtraTreesRegressor       CV-5 RMSE:  1216.33 (+/- 29333.33)\n",
      "ElasticNet                CV-5 RMSE:  1259.05 (+/- 115276.60)\n",
      "KNeighborsRegressor       CV-5 RMSE:  1228.01 (+/- 65303.50)\n",
      "GradientBoostingRegressor CV-5 RMSE:  1086.54 (+/- 37186.62)\n"
     ]
    }
   ],
   "source": [
    "for model in model_factory:\n",
    "    model.seed = 42\n",
    "    num_folds = 5\n",
    "    scores = cross_val_score(model, X_train, y_train, cv=num_folds, scoring='neg_mean_squared_error')\n",
    "    score_description = \" %0.2f (+/- %0.2f)\" % (np.sqrt(scores.mean()*-1), scores.std() * 2)\n",
    "\n",
    "    print('{model:25} CV-5 RMSE: {score}'.format(\n",
    "        model=model.__class__.__name__,\n",
    "        score=score_description\n",
    "         ))"
   ]
  },
  {
   "cell_type": "markdown",
   "metadata": {},
   "source": [
    "The models are not tuned for simplicity.\n",
    "\n",
    "Now lets check out the pseudo labelling"
   ]
  },
  {
   "cell_type": "code",
   "execution_count": 46,
   "metadata": {},
   "outputs": [],
   "source": [
    "from sklearn.utils import shuffle\n",
    "from sklearn.base import BaseEstimator, RegressorMixin\n",
    "\n",
    "class PseudoLabeler(BaseEstimator, RegressorMixin):\n",
    "    '''\n",
    "    Sci-kit learn wrapper for creating pseudo-lebeled estimators.\n",
    "    '''\n",
    "\n",
    "    def __init__(self, model, unlabled_data, features, target, sample_rate=0.2, seed=42):\n",
    "        '''\n",
    "        @sample_rate - percent of samples used as pseudo-labelled data\n",
    "        from the unlabelled dataset\n",
    "        ''' \n",
    "        assert sample_rate <= 1.0, 'Sample_rate should be between 0.0 and 1.0.'\n",
    "\n",
    "        self.sample_rate = sample_rate\n",
    "        self.seed = seed\n",
    "        self.model = model\n",
    "        self.model.seed = seed\n",
    "\n",
    "        self.unlabled_data = unlabled_data\n",
    "        self.features = features\n",
    "        self.target = target\n",
    "\n",
    "    def get_params(self, deep=True):\n",
    "        return {\n",
    "            \"sample_rate\": self.sample_rate,\n",
    "            \"seed\": self.seed,\n",
    "            \"model\": self.model,\n",
    "            \"unlabled_data\": self.unlabled_data,\n",
    "            \"features\": self.features,\n",
    "            \"target\": self.target\n",
    "            }\n",
    "\n",
    "    def set_params(self, **parameters):\n",
    "        for parameter, value in parameters.items():\n",
    "            setattr(self, parameter, value)\n",
    "        return self\n",
    "\n",
    "    def fit(self, X, y):\n",
    "        '''\n",
    "        Fit the data using pseudo labeling.\n",
    "        '''\n",
    "\n",
    "        augemented_train = self.__create_augmented_train(X, y)\n",
    "        self.model.fit(\n",
    "            augemented_train[self.features],\n",
    "            augemented_train[self.target]\n",
    "         )\n",
    "\n",
    "        return self\n",
    "\n",
    "\n",
    "\n",
    "    def __create_augmented_train(self, X, y):\n",
    "        '''\n",
    "        Create and return the augmented_train set that consists\n",
    "        of pseudo-labeled and labeled data.\n",
    "        '''\n",
    "        num_of_samples = int(len(self.unlabled_data) * self.sample_rate)\n",
    "\n",
    "        # Train the model and creat the pseudo-labels\n",
    "        self.model.fit(X, y)\n",
    "        pseudo_labels = self.model.predict(self.unlabled_data[self.features])\n",
    "\n",
    "        # Add the pseudo-labels to the test set\n",
    "        pseudo_data = self.unlabled_data.copy(deep=True)\n",
    "        pseudo_data[self.target] = pseudo_labels\n",
    "\n",
    "        # Take a subset of the test set with pseudo-labels and append in onto\n",
    "        # the training set\n",
    "        sampled_pseudo_data = pseudo_data.sample(n=num_of_samples)\n",
    "        temp_train = pd.concat([X, y], axis=1)\n",
    "        augemented_train = pd.concat([sampled_pseudo_data, temp_train])\n",
    "\n",
    "        return shuffle(augemented_train)\n",
    "\n",
    "    def predict(self, X):\n",
    "        '''\n",
    "        Returns the predicted values.\n",
    "        '''\n",
    "        return self.model.predict(X)\n",
    "\n",
    "    def get_model_name(self):\n",
    "        return self.model.__class__.__name__"
   ]
  },
  {
   "cell_type": "markdown",
   "metadata": {},
   "source": [
    "Let's apply the Psuedo labelling to the XGBoost Regressor"
   ]
  },
  {
   "cell_type": "code",
   "execution_count": 47,
   "metadata": {},
   "outputs": [
    {
     "name": "stdout",
     "output_type": "stream",
     "text": [
      "XGBRegressor              CV-5 MSE: 1083.2585 (+/- 34737.9823)\n",
      "PseudoLabeler             CV-5 MSE: 1082.2201 (+/- 37230.6501)\n"
     ]
    }
   ],
   "source": [
    "model_factory = [\n",
    "    XGBRegressor(nthread=1),\n",
    "    PseudoLabeler(\n",
    "        XGBRegressor(nthread=1),\n",
    "        test,\n",
    "        features,\n",
    "        target,\n",
    "        sample_rate=0.3\n",
    "    ),\n",
    "]\n",
    "\n",
    "for model in model_factory:\n",
    "    model.seed = 42\n",
    "    num_folds = 5\n",
    " \n",
    "    scores = cross_val_score(model, X_train, y_train, cv=num_folds, scoring='neg_mean_squared_error', n_jobs=8)\n",
    "    score_description = \"MSE: %0.4f (+/- %0.4f)\" % (np.sqrt(scores.mean()*-1), scores.std() * 2)\n",
    "\n",
    "    print('{model:25} CV-{num_folds} {score_cv}'.format(\n",
    "        model=model.__class__.__name__,\n",
    "        num_folds=num_folds,\n",
    "        score_cv=score_description\n",
    "     ))"
   ]
  },
  {
   "cell_type": "markdown",
   "metadata": {},
   "source": [
    "Small improvement, looks good"
   ]
  },
  {
   "cell_type": "markdown",
   "metadata": {},
   "source": [
    "# Check dependence on the sampling rate"
   ]
  },
  {
   "cell_type": "code",
   "execution_count": 48,
   "metadata": {
    "collapsed": true
   },
   "outputs": [],
   "source": [
    "sample_rates = np.linspace(0, 1, 10)\n",
    "def pseudo_label_wrapper(model):\n",
    "    return PseudoLabeler(model, test, features, target)\n",
    "\n",
    "# List of all models to test\n",
    "model_factory = [\n",
    "    RandomForestRegressor(n_jobs=1),\n",
    "    XGBRegressor(),\n",
    "]"
   ]
  },
  {
   "cell_type": "code",
   "execution_count": 51,
   "metadata": {},
   "outputs": [
    {
     "name": "stdout",
     "output_type": "stream",
     "text": [
      "RandomForestRegressor\n",
      "XGBRegressor\n"
     ]
    }
   ],
   "source": [
    "# Apply the PseudoLabeler class to each model\n",
    "wrapped_model_factory = map(pseudo_label_wrapper, model_factory)\n",
    "\n",
    "# Train each model with different sample rates\n",
    "results = {}\n",
    "num_folds = 5\n",
    "\n",
    "for model in wrapped_model_factory:\n",
    "    model_name = model.get_model_name()\n",
    "    print('%s' % model_name)\n",
    "\n",
    "    results[model_name] = {}\n",
    "    results[model_name]['Wrapped'] = list()\n",
    "    for sample_rate in sample_rates:\n",
    "        model.sample_rate = sample_rate\n",
    " \n",
    "        # Calculate the CV-3 R2 score and store it\n",
    "        scores = cross_val_score(model, X_train, y_train, cv=num_folds, scoring='neg_mean_squared_error', n_jobs=8)\n",
    "        results[model_name]['Wrapped'].append(np.sqrt(scores.mean()*-1))\n",
    "        \n",
    "for model in model_factory:\n",
    "    model_name = model.__class__.__name__\n",
    "    scores = cross_val_score(model, X_train, y_train, cv=num_folds, scoring='neg_mean_squared_error', n_jobs=8)\n",
    "    results[model_name][\"Native\"] = np.sqrt(scores.mean()*-1)"
   ]
  },
  {
   "cell_type": "code",
   "execution_count": 52,
   "metadata": {},
   "outputs": [
    {
     "data": {
      "image/png": "[encoded data removed]",
      "text/plain": [
       "<matplotlib.figure.Figure at 0x7fbef07c8c50>"
      ]
     },
     "metadata": {},
     "output_type": "display_data"
    }
   ],
   "source": [
    "plt.figure(figsize=(16, 18))\n",
    "\n",
    "i = 1\n",
    "for model_name in results.keys(): \n",
    "    plt.subplot(3, 3, i)\n",
    "    i += 1\n",
    "\n",
    "    plt.plot(sample_rates, results[model_name][\"Wrapped\"])\n",
    "    plt.axhline(y=results[model_name][\"Native\"], color=\"r\")\n",
    "    plt.title(model_name)\n",
    "    plt.xlabel('sample_rate')\n",
    "    plt.ylabel('RMSE')\n",
    "\n",
    "plt.show()"
   ]
  },
  {
   "cell_type": "markdown",
   "metadata": {},
   "source": [
    "Obviously the sampling rate has to be tuned, to be effective\n",
    "\n",
    "Interestingly the effect for the random forest regressor is way bigger than for the XGBoostRegressor"
   ]
  },
  {
   "cell_type": "code",
   "execution_count": null,
   "metadata": {
    "collapsed": true
   },
   "outputs": [],
   "source": []
  }
 ],
 "metadata": {
  "kernelspec": {
   "display_name": "Python 3",
   "language": "python",
   "name": "python3"
  },
  "language_info": {
   "codemirror_mode": {
    "name": "ipython",
    "version": 3
   },
   "file_extension": ".py",
   "mimetype": "text/x-python",
   "name": "python",
   "nbconvert_exporter": "python",
   "pygments_lexer": "ipython3",
   "version": "3.6.2"
  }
 },
 "nbformat": 4,
 "nbformat_minor": 2
}
